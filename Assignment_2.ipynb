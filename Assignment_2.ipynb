{
 "cells": [
  {
   "cell_type": "markdown",
   "metadata": {},
   "source": [
    "# Assignment-2"
   ]
  },
  {
   "cell_type": "code",
   "execution_count": null,
   "metadata": {},
   "outputs": [],
   "source": [
    "\"\"\"\n",
    "1. Write a Python program to convert kilometers to miles?\n",
    "2. Write a Python program to convert Celsius to Fahrenheit?\n",
    "3. Write a Python program to display calendar?\n",
    "4. Write a Python program to solve quadratic equation?\n",
    "5. Write a Python program to swap two variables without temp variable?\n",
    "\"\"\""
   ]
  },
  {
   "cell_type": "markdown",
   "metadata": {},
   "source": [
    "# Q.1"
   ]
  },
  {
   "cell_type": "code",
   "execution_count": 1,
   "metadata": {},
   "outputs": [
    {
     "name": "stdout",
     "output_type": "stream",
     "text": [
      "Enter km : 100\n"
     ]
    },
    {
     "data": {
      "text/plain": [
       "62.137100000000004"
      ]
     },
     "execution_count": 1,
     "metadata": {},
     "output_type": "execute_result"
    }
   ],
   "source": [
    "#1.\n",
    "#0.621371\n",
    "\n",
    "def km_miles():\n",
    "    try:\n",
    "        \n",
    "        km = int(input(\"Enter km : \"))\n",
    "        \n",
    "        if km >= 2147483647 :\n",
    "            print(\"enter some smaller values\")\n",
    "            return\n",
    "        miles = 0.621371*km\n",
    "        \n",
    "        return miles\n",
    "    \n",
    "       \n",
    "    except Exception as e:\n",
    "        print(\"Enter only numeric value\")\n",
    "        \n",
    "km_miles()\n",
    "    "
   ]
  },
  {
   "cell_type": "markdown",
   "metadata": {},
   "source": [
    "# Q.2.\n"
   ]
  },
  {
   "cell_type": "code",
   "execution_count": 2,
   "metadata": {},
   "outputs": [
    {
     "name": "stdout",
     "output_type": "stream",
     "text": [
      "Enter celcius : 100\n"
     ]
    },
    {
     "data": {
      "text/plain": [
       "212.0"
      ]
     },
     "execution_count": 2,
     "metadata": {},
     "output_type": "execute_result"
    }
   ],
   "source": [
    "\n",
    "\n",
    "def c_to_f():\n",
    "    try:\n",
    "        \n",
    "        c = int(input(\"Enter celcius : \"))\n",
    "        \n",
    "        if c >= 2147483647 :\n",
    "            print(\"enter some smaller values\")\n",
    "            return\n",
    "        f = (c*9/5)+32\n",
    "        \n",
    "        return f\n",
    "    \n",
    "       \n",
    "    except Exception as e:\n",
    "        print(\"Enter only numeric value\")\n",
    "        \n",
    "c_to_f()\n",
    " "
   ]
  },
  {
   "cell_type": "markdown",
   "metadata": {},
   "source": [
    "# Q.3"
   ]
  },
  {
   "cell_type": "code",
   "execution_count": 3,
   "metadata": {},
   "outputs": [
    {
     "name": "stdout",
     "output_type": "stream",
     "text": [
      "Enter the year: 2022\n",
      "Enter the month: 6\n",
      "\n",
      "     June 2022\n",
      "Mo Tu We Th Fr Sa Su\n",
      "       1  2  3  4  5\n",
      " 6  7  8  9 10 11 12\n",
      "13 14 15 16 17 18 19\n",
      "20 21 22 23 24 25 26\n",
      "27 28 29 30\n",
      "\n"
     ]
    }
   ],
   "source": [
    "import calendar\n",
    "def display_calendar():\n",
    "    try:\n",
    "        yy = int(input(\"Enter the year: \"))\n",
    "        mm = int(input(\"Enter the month: \"))\n",
    "        print()\n",
    "        if yy<=0 or mm <=0:\n",
    "            raise Exception\n",
    "        print(calendar.month(yy, mm))\n",
    "    except Exception:\n",
    "        print(\"Enter valid values\")\n",
    "        \n",
    "display_calendar()"
   ]
  },
  {
   "cell_type": "markdown",
   "metadata": {},
   "source": [
    "# Q.4"
   ]
  },
  {
   "cell_type": "code",
   "execution_count": 4,
   "metadata": {},
   "outputs": [],
   "source": [
    "def f(x):\n",
    "    try:\n",
    "        a = int(input(\"enter value of a: \"))\n",
    "        b = int(input(\"enter value of b: \"))\n",
    "        c = int(input(\"enter value of constant c: \"))\n",
    "        \n",
    "        ans = a*x**2+b*x+c\n",
    "        return ans\n",
    "    except Exception:\n",
    "        print(\"Enter numeric values..\")\n"
   ]
  },
  {
   "cell_type": "code",
   "execution_count": 5,
   "metadata": {},
   "outputs": [
    {
     "name": "stdout",
     "output_type": "stream",
     "text": [
      "enter value of a: 3\n",
      "enter value of b: 4\n",
      "enter value of constant c: 5\n"
     ]
    },
    {
     "data": {
      "text/plain": [
       "25"
      ]
     },
     "execution_count": 5,
     "metadata": {},
     "output_type": "execute_result"
    }
   ],
   "source": [
    "f(2)"
   ]
  },
  {
   "cell_type": "markdown",
   "metadata": {},
   "source": [
    "# Q.5"
   ]
  },
  {
   "cell_type": "code",
   "execution_count": 6,
   "metadata": {},
   "outputs": [
    {
     "name": "stdout",
     "output_type": "stream",
     "text": [
      "enter the value of a: 77\n",
      "enter the value of b: 66\n",
      "before swapping...........\n",
      "value of a is :  77\n",
      "value of b is :  66\n",
      "after swapping...........\n",
      "value of a is :  66\n",
      "value of b is :  77\n"
     ]
    }
   ],
   "source": [
    "def swap():\n",
    "    try:\n",
    "        a = int(input(\"enter the value of a: \"))\n",
    "        b = int(input(\"enter the value of b: \"))\n",
    "        \n",
    "        if a >= 2147483647 or b >= 2147483647:\n",
    "            print(\"enter some smaller values\")\n",
    "            return\n",
    "        \n",
    "        print(\"before swapping...........\")\n",
    "        print(\"value of a is : \", a)\n",
    "        print(\"value of b is : \", b)\n",
    "        \n",
    "        a, b = b, a\n",
    "        \n",
    "        print(\"after swapping...........\")\n",
    "        print(\"value of a is : \", a)\n",
    "        print(\"value of b is : \", b)\n",
    "        \n",
    "        return\n",
    "       \n",
    "    except Exception as e:\n",
    "        print(\"Enter only numeric value\")\n",
    "        \n",
    "swap()"
   ]
  },
  {
   "cell_type": "code",
   "execution_count": null,
   "metadata": {},
   "outputs": [],
   "source": []
  }
 ],
 "metadata": {
  "kernelspec": {
   "display_name": "Python 3",
   "language": "python",
   "name": "python3"
  },
  "language_info": {
   "codemirror_mode": {
    "name": "ipython",
    "version": 3
   },
   "file_extension": ".py",
   "mimetype": "text/x-python",
   "name": "python",
   "nbconvert_exporter": "python",
   "pygments_lexer": "ipython3",
   "version": "3.7.6"
  }
 },
 "nbformat": 4,
 "nbformat_minor": 4
}
