{
 "cells": [
  {
   "cell_type": "markdown",
   "metadata": {},
   "source": [
    "# Assignment-9"
   ]
  },
  {
   "cell_type": "code",
   "execution_count": null,
   "metadata": {},
   "outputs": [],
   "source": [
    "\"\"\"\n",
    "1. Write a Python program to check if the given number is a Disarium Number?\n",
    "2. Write a Python program to print all disarium numbers between 1 to 100?\n",
    "3. Write a Python program to check if the given number is Happy Number?\n",
    "4. Write a Python program to print all happy numbers between 1 and 100?\n",
    "5. Write a Python program to determine whether the given number is a Harshad Number?\n",
    "6. Write a Python program to print all pronic numbers between 1 and 100?\n",
    "\n",
    "\"\"\""
   ]
  },
  {
   "cell_type": "markdown",
   "metadata": {},
   "source": [
    "# Q.1"
   ]
  },
  {
   "cell_type": "code",
   "execution_count": 53,
   "metadata": {},
   "outputs": [
    {
     "data": {
      "text/plain": [
       "(518, ' is disarium no.')"
      ]
     },
     "execution_count": 53,
     "metadata": {},
     "output_type": "execute_result"
    }
   ],
   "source": [
    "def disarium(n):\n",
    "    try:\n",
    "        if n>1:\n",
    "            ans =0\n",
    "            for i in range(1, len(str(n))+1):\n",
    "\n",
    "                ans = ans + (int(str(n)[i-1]))**i\n",
    "\n",
    "            if ans==n:\n",
    "                return n, \" is disarium no.\"\n",
    "            else:\n",
    "                return \"not a disarium no.\"\n",
    "        else:\n",
    "            raise Exception\n",
    "    except Exception as e:\n",
    "        print(e,\"Enter a valid postive number \")\n",
    " \n",
    "disarium(518)"
   ]
  },
  {
   "cell_type": "markdown",
   "metadata": {},
   "source": [
    "# Q.2"
   ]
  },
  {
   "cell_type": "code",
   "execution_count": 56,
   "metadata": {},
   "outputs": [
    {
     "name": "stdout",
     "output_type": "stream",
     "text": [
      "1\n",
      "2\n",
      "3\n",
      "4\n",
      "5\n",
      "6\n",
      "7\n",
      "8\n",
      "9\n",
      "89\n"
     ]
    }
   ],
   "source": [
    "def disarium():\n",
    "    try:\n",
    "        \n",
    "        for n in range(1,101):\n",
    "            ans =0\n",
    "            for i in range(1, len(str(n))+1):\n",
    "                ans = ans + (int(str(n)[i-1]))**i\n",
    "\n",
    "            if ans==n:\n",
    "                print(n)\n",
    "            \n",
    "        \n",
    "    except Exception as e:\n",
    "        print(e,\"Enter a valid postive number \")\n",
    "        \n",
    "disarium()"
   ]
  },
  {
   "cell_type": "markdown",
   "metadata": {},
   "source": [
    "# Q.3"
   ]
  },
  {
   "cell_type": "code",
   "execution_count": 5,
   "metadata": {},
   "outputs": [
    {
     "data": {
      "text/plain": [
       "'It is a happy no.'"
      ]
     },
     "execution_count": 5,
     "metadata": {},
     "output_type": "execute_result"
    }
   ],
   "source": [
    "#this are the happy no\n",
    "#1, 7, 10, 13, 19, 23, 28, 31, 32, 44, 49, 68, 70, 79, 82, 86, 91, 94, 97, 100\n",
    "\n",
    "a = set()\n",
    "def happy(n):\n",
    "    ans =0\n",
    "    \n",
    "    for i in range(1, len(str(n))+1):\n",
    "        ans = ans + (int(str(n)[i-1]))**2\n",
    "    if ans!=1:\n",
    "        if ans in a:\n",
    "            return \"not a happy no.\"\n",
    "        a.add(ans)\n",
    "        return happy(ans)\n",
    "    else:\n",
    "        return \"It is a happy no.\"\n",
    "happy(7)"
   ]
  },
  {
   "cell_type": "markdown",
   "metadata": {},
   "source": [
    "# Q.4"
   ]
  },
  {
   "cell_type": "code",
   "execution_count": 4,
   "metadata": {},
   "outputs": [
    {
     "name": "stdout",
     "output_type": "stream",
     "text": [
      "List of happy numbers between 1 and 100: \n",
      "1\n",
      "7\n",
      "10\n",
      "13\n",
      "19\n",
      "23\n",
      "28\n",
      "31\n",
      "32\n",
      "44\n",
      "49\n",
      "68\n",
      "70\n",
      "79\n",
      "82\n",
      "86\n",
      "91\n",
      "94\n",
      "97\n",
      "100\n"
     ]
    }
   ],
   "source": [
    "def isHappyNumber(num):    \n",
    "    rem = sum = 0;    \n",
    "        \n",
    "    #Calculates the sum of squares of digits    \n",
    "    while(num > 0):    \n",
    "        rem = num%10;    \n",
    "        sum = sum + (rem*rem);    \n",
    "        num = num//10;    \n",
    "    return sum;    \n",
    "            \n",
    "#Displays all happy numbers between 1 and 100    \n",
    "print(\"List of happy numbers between 1 and 100: \");    \n",
    "for i in range(1, 101):    \n",
    "    result = i;    \n",
    "        \n",
    "    #Happy number always ends with 1 and     \n",
    "    #unhappy number ends in a cycle of repeating numbers which contains 4    \n",
    "    while(result != 1 and result != 4):    \n",
    "        result = isHappyNumber(result);    \n",
    "        \n",
    "    if(result == 1):    \n",
    "        print(i) "
   ]
  },
  {
   "cell_type": "markdown",
   "metadata": {},
   "source": [
    "# Q.5"
   ]
  },
  {
   "cell_type": "code",
   "execution_count": 14,
   "metadata": {},
   "outputs": [
    {
     "data": {
      "text/plain": [
       "'This is Harshad no.'"
      ]
     },
     "execution_count": 14,
     "metadata": {},
     "output_type": "execute_result"
    }
   ],
   "source": [
    "#this are the Harshad no.\n",
    "#1, 2, 3, 4, 5, 6, 7, 8, 9, 10, 12, 18, 20\n",
    "def harshad(n):\n",
    "    sum=0\n",
    "    for i in range(len(str(n))):\n",
    "        sum+=int(str(n)[i])\n",
    "    if n%sum==0:\n",
    "        return \"This is Harshad no.\"\n",
    "    else:\n",
    "        return \"not a Harshad no.\"\n",
    "\n",
    "harshad(18)\n"
   ]
  },
  {
   "cell_type": "markdown",
   "metadata": {},
   "source": [
    "# Q.6"
   ]
  },
  {
   "cell_type": "code",
   "execution_count": 41,
   "metadata": {},
   "outputs": [
    {
     "name": "stdout",
     "output_type": "stream",
     "text": [
      "2\n",
      "6\n",
      "12\n",
      "20\n",
      "30\n",
      "42\n",
      "56\n",
      "72\n",
      "90\n"
     ]
    }
   ],
   "source": [
    "#These are some pronic no\n",
    "#0, 2, 6, 12, 20, 30, 42, 56, 72, 90, 110, 132, 156, 182, 210, 240, 272, 306, 342, 380, 420, 462\n",
    "def pronic(x):\n",
    "    if x == 0:\n",
    "        return \"no is pronic\"\n",
    "    for i in range(1,x):\n",
    "        if x%i==0:\n",
    "            if i*(i+1)==x:\n",
    "                return \"no is pronic\"\n",
    "            else:\n",
    "                continue\n",
    "    else:\n",
    "        return\n",
    "                \n",
    "def pronic_n():\n",
    "    for i in range(1,101):\n",
    "        if type(pronic(i)) == str:\n",
    "            print(i)\n",
    "pronic_n()"
   ]
  },
  {
   "cell_type": "code",
   "execution_count": null,
   "metadata": {},
   "outputs": [],
   "source": []
  },
  {
   "cell_type": "code",
   "execution_count": null,
   "metadata": {},
   "outputs": [],
   "source": []
  }
 ],
 "metadata": {
  "kernelspec": {
   "display_name": "Python 3",
   "language": "python",
   "name": "python3"
  },
  "language_info": {
   "codemirror_mode": {
    "name": "ipython",
    "version": 3
   },
   "file_extension": ".py",
   "mimetype": "text/x-python",
   "name": "python",
   "nbconvert_exporter": "python",
   "pygments_lexer": "ipython3",
   "version": "3.7.6"
  }
 },
 "nbformat": 4,
 "nbformat_minor": 4
}
