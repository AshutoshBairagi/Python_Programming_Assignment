{
 "cells": [
  {
   "cell_type": "markdown",
   "metadata": {},
   "source": [
    "# Assignment-5"
   ]
  },
  {
   "cell_type": "code",
   "execution_count": null,
   "metadata": {},
   "outputs": [],
   "source": [
    "\"\"\"\n",
    "1. Write a Python Program to Find LCM?\n",
    "2. Write a Python Program to Find HCF?\n",
    "3. Write a Python Program to Convert Decimal to Binary, Octal and Hexadecimal?\n",
    "4. Write a Python Program To Find ASCII value of a character?\n",
    "5. Write a Python Program to Make a Simple Calculator with 4 basic mathematical operations?\n",
    "\"\"\""
   ]
  },
  {
   "cell_type": "markdown",
   "metadata": {},
   "source": [
    "# Q.1"
   ]
  },
  {
   "cell_type": "code",
   "execution_count": 52,
   "metadata": {},
   "outputs": [],
   "source": [
    "#function for lcm of n numbers\n",
    "def lcm(*a):\n",
    "    try:\n",
    "        #function for lcm of two numbers\n",
    "        def lcm_two_no(x, y):\n",
    "            if x>y:\n",
    "                greater = x\n",
    "            else:\n",
    "                greater = y\n",
    "            while(True):\n",
    "                if(greater %x==0) and greater%y==0:\n",
    "                    lcm = greater\n",
    "                    break\n",
    "                greater+=1\n",
    "\n",
    "            return lcm\n",
    "        \n",
    "        x = a[0]\n",
    "        y = a[1]\n",
    "        lcm = lcm_two_no(x, y)   #calling lcm of two no. function\n",
    "        for i in range(2, len(a)):  #iterating till len(a) \n",
    "            lcm = lcm_two_no(lcm, a[i])  #calling lcm of two no. function and assigning the returned value to lcm to get the lcm of n numbers\n",
    "        return lcm\n",
    "    except Exception as e:\n",
    "        print(e)"
   ]
  },
  {
   "cell_type": "code",
   "execution_count": 54,
   "metadata": {},
   "outputs": [
    {
     "data": {
      "text/plain": [
       "1820"
      ]
     },
     "execution_count": 54,
     "metadata": {},
     "output_type": "execute_result"
    }
   ],
   "source": [
    "lcm(7,20,13)"
   ]
  },
  {
   "cell_type": "markdown",
   "metadata": {},
   "source": [
    "# Q.2"
   ]
  },
  {
   "cell_type": "code",
   "execution_count": 68,
   "metadata": {},
   "outputs": [],
   "source": [
    "def hcf(a, b):\n",
    "    try:\n",
    "        if a>b:\n",
    "            greater = a\n",
    "        else:\n",
    "            greater = b\n",
    "        hcf = 0\n",
    "        for i in range(1, greater):\n",
    "            if(a%i==0) and (b%i==0):\n",
    "                hcf = i\n",
    "                \n",
    "        return hcf\n",
    "    except Exception as e:\n",
    "        print(e)"
   ]
  },
  {
   "cell_type": "code",
   "execution_count": 78,
   "metadata": {},
   "outputs": [
    {
     "data": {
      "text/plain": [
       "3"
      ]
     },
     "execution_count": 78,
     "metadata": {},
     "output_type": "execute_result"
    }
   ],
   "source": [
    "hcf(345,789)"
   ]
  },
  {
   "cell_type": "markdown",
   "metadata": {},
   "source": [
    "# Q.3"
   ]
  },
  {
   "cell_type": "code",
   "execution_count": 4,
   "metadata": {},
   "outputs": [],
   "source": [
    "# part 1- converting decimal to binary\n",
    "def decimal_to_binary(x):\n",
    "    try:\n",
    "         #ipdb.set_trace()\n",
    "        l = []\n",
    "        if x == 1:    #for decimal 1 to binary is 1\n",
    "            return 1\n",
    "        elif x == 0:  #for decimal 0 to binary is 0\n",
    "            return 0\n",
    "        else:\n",
    "            while (x%2==0):  #checking if no. is even \"\"\"when the given no. is even\"\"\"\n",
    "                x = x/2\n",
    "                l.append(0)  \n",
    "                if x==1 or x==-1:  #when no. becomes 1 or -1 then entering into this statement\n",
    "                    l.append(1)\n",
    "                    break\n",
    "                while(x%2!=0):  #this is for odd no. when x becomes odd\n",
    "                    x = int(x /2)\n",
    "                    l.append(1)\n",
    "                    if x==1 or x==-1:\n",
    "                        l.append(1)\n",
    "                        break\n",
    "\n",
    "            else:\n",
    "                while(x%2!=0):   #checking if no. is odd \"\"\"when the given no. is odd\"\"\"\n",
    "                    x = int(x /2)\n",
    "                    l.append(1)\n",
    "                    if x==1 or x==-1:\n",
    "                        l.append(1)\n",
    "                        break\n",
    "                    while (x%2==0):\n",
    "                        x = x/2\n",
    "                        l.append(0)  \n",
    "                        if x==1 or x==-1:\n",
    "                            l.append(1)\n",
    "                            break\n",
    "            b = [str(i) for i in l[::-1]]\n",
    "            binary = \"\".join(b)     #converting our list into string\n",
    "            if x>0:\n",
    "                pass\n",
    "            else:                  #when given number is negative\n",
    "                binary = \"-\"+binary\n",
    "\n",
    "\n",
    "\n",
    "        return int(binary)      #returning binary value by converting from string to int\n",
    "        \n",
    "    except Exception as e:\n",
    "        print(e, \"......try again\")"
   ]
  },
  {
   "cell_type": "code",
   "execution_count": 6,
   "metadata": {},
   "outputs": [
    {
     "data": {
      "text/plain": [
       "1010"
      ]
     },
     "execution_count": 6,
     "metadata": {},
     "output_type": "execute_result"
    }
   ],
   "source": [
    "decimal_to_binary(10)"
   ]
  },
  {
   "cell_type": "code",
   "execution_count": 67,
   "metadata": {},
   "outputs": [],
   "source": [
    "# converting octal to hexadecimal\n",
    "def octal_to_hexa(x):\n",
    "    try:\n",
    "\n",
    "        l=[]\n",
    "        l1=[]\n",
    "        h=[]\n",
    "        d = {10:\"A\",11:\"B\",12:\"C\",13:\"D\",14:\"E\",15:\"F\"}\n",
    "        for i in str(x):\n",
    "            l.append(i)        # storing given no. in list to iterate through it\n",
    "\n",
    "\n",
    "        for j in range(0, len(l)):\n",
    "            for i in l[::-1]:\n",
    "                if len(l1)==len(l):\n",
    "                    break\n",
    "                l1.append(int(i)*(8**j))    #converting octal to decimal\n",
    "                j+=1\n",
    "\n",
    "        x_new = sum(l1)\n",
    "        quo = int(x_new/16)\n",
    "        rem = int(x_new%16)\n",
    "\n",
    "        if quo >9:\n",
    "            for i in range(10,16):\n",
    "                if quo==i:\n",
    "                    h.append(d[i])\n",
    "        else:\n",
    "            h.append(quo)\n",
    "        if rem > 9:\n",
    "            for i in range(10,16):\n",
    "                if rem==i:\n",
    "                    h.append(d[i])\n",
    "\n",
    "        else:\n",
    "\n",
    "            h.append(rem)\n",
    "\n",
    "        b = [str(i) for i in h]\n",
    "        hexa = \"\".join(b)  \n",
    "\n",
    "        return hexa\n",
    "    \n",
    "    except Exception as e:\n",
    "        print(e)\n",
    "\n"
   ]
  },
  {
   "cell_type": "code",
   "execution_count": 68,
   "metadata": {},
   "outputs": [
    {
     "data": {
      "text/plain": [
       "'FF'"
      ]
     },
     "execution_count": 68,
     "metadata": {},
     "output_type": "execute_result"
    }
   ],
   "source": [
    "octal_to_hexa(377)"
   ]
  },
  {
   "cell_type": "code",
   "execution_count": 13,
   "metadata": {},
   "outputs": [],
   "source": [
    "#converting decimal to octal\n",
    "def decimal_to_octal(x):\n",
    "    try:\n",
    "        \n",
    "        \n",
    "        l=[]\n",
    "        x_new = 0\n",
    "        if x<0:        #given no. is negative then make positive\n",
    "            x_new = x\n",
    "            x = abs(x)\n",
    "        while(True):\n",
    "            l.append(x%8)\n",
    "            x = int(x/8)\n",
    "\n",
    "            if x/8==0:\n",
    "                break\n",
    "        s = \"\"\n",
    "        \n",
    "        for i in l[::-1]:\n",
    "            s += str(i)\n",
    "        \n",
    "        if x_new < 0:     #if given n. was negative then just add \"-\" to the octal no.\n",
    "            s = \"-\"+s\n",
    "        \n",
    "        \n",
    "              \n",
    "        return int(s)\n",
    "                \n",
    "    except Exception as e:\n",
    "        print(e)\n",
    "        \n",
    "\n",
    "    "
   ]
  },
  {
   "cell_type": "code",
   "execution_count": 16,
   "metadata": {},
   "outputs": [
    {
     "data": {
      "text/plain": [
       "146"
      ]
     },
     "execution_count": 16,
     "metadata": {},
     "output_type": "execute_result"
    }
   ],
   "source": [
    "decimal_to_octal(102)"
   ]
  },
  {
   "cell_type": "markdown",
   "metadata": {},
   "source": [
    "# Q.4"
   ]
  },
  {
   "cell_type": "code",
   "execution_count": 38,
   "metadata": {},
   "outputs": [],
   "source": [
    "# ASCII no\n",
    "def asci(x):\n",
    "    try:\n",
    "        print(\"ASCII value of \",x,\" is: \", ord(x))\n",
    "        \n",
    "    except Exception as e:\n",
    "        print(e, \"......Try again\")\n",
    "    \n"
   ]
  },
  {
   "cell_type": "code",
   "execution_count": 39,
   "metadata": {},
   "outputs": [
    {
     "name": "stdout",
     "output_type": "stream",
     "text": [
      "ASCII value of  a  is:  97\n"
     ]
    }
   ],
   "source": [
    "asci(\"a\")\n"
   ]
  },
  {
   "cell_type": "markdown",
   "metadata": {},
   "source": [
    "# Q.5"
   ]
  },
  {
   "cell_type": "code",
   "execution_count": 9,
   "metadata": {},
   "outputs": [],
   "source": [
    "import ipdb\n",
    "def calculator():\n",
    "    try:\n",
    "        #ipdb.set_trace()\n",
    "        a = int(input(\"Enter the first no.: \"))\n",
    "        operators = [\"+\",\"-\",\"*\",\"/\"]\n",
    "        op = input(\"Enter one the operator: \")\n",
    "        b = int(input(\"Enter the second no.: \"))\n",
    "        result = 0\n",
    "        if op in operators:\n",
    "            if op==\"+\":\n",
    "                result = a+b\n",
    "                print(\"Addition of these two no. is: \", result)\n",
    "                \n",
    "                \n",
    "            elif op==\"-\":\n",
    "                result = a-b\n",
    "                print(\"Substraction of these two no. is: \", result)\n",
    "                \n",
    "                \n",
    "            elif op==\"*\":\n",
    "                result = a*b\n",
    "                print(\"Multiplication of these two no. is: \", result)\n",
    "                \n",
    "                \n",
    "            else:\n",
    "                result = a/b\n",
    "                print(\"Division of these two no. is: \", result)\n",
    "                \n",
    "                \n",
    "        else:\n",
    "            print(\"Enter some valid operator\")\n",
    "            return\n",
    "        return \"Program ran successfully\"\n",
    "    except Exception as e:\n",
    "        print(e)"
   ]
  },
  {
   "cell_type": "code",
   "execution_count": 10,
   "metadata": {},
   "outputs": [
    {
     "name": "stdout",
     "output_type": "stream",
     "text": [
      "Enter the first no.: 4\n",
      "Enter one the operator: -\n",
      "Enter the second no.: 1\n",
      "Substraction of these two no. is:  3\n"
     ]
    },
    {
     "data": {
      "text/plain": [
       "'Program ran successfully'"
      ]
     },
     "execution_count": 10,
     "metadata": {},
     "output_type": "execute_result"
    }
   ],
   "source": [
    "calculator()"
   ]
  },
  {
   "cell_type": "code",
   "execution_count": null,
   "metadata": {},
   "outputs": [],
   "source": []
  }
 ],
 "metadata": {
  "kernelspec": {
   "display_name": "Python 3",
   "language": "python",
   "name": "python3"
  },
  "language_info": {
   "codemirror_mode": {
    "name": "ipython",
    "version": 3
   },
   "file_extension": ".py",
   "mimetype": "text/x-python",
   "name": "python",
   "nbconvert_exporter": "python",
   "pygments_lexer": "ipython3",
   "version": "3.7.6"
  }
 },
 "nbformat": 4,
 "nbformat_minor": 4
}
