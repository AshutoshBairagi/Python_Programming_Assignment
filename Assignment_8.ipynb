{
 "cells": [
  {
   "cell_type": "markdown",
   "metadata": {},
   "source": [
    "# Assignment-8"
   ]
  },
  {
   "cell_type": "code",
   "execution_count": null,
   "metadata": {},
   "outputs": [],
   "source": [
    "\"\"\"\n",
    "1. Write a Python Program to Add Two Matrices?\n",
    "2. Write a Python Program to Multiply Two Matrices?\n",
    "3. Write a Python Program to Transpose a Matrix?\n",
    "4. Write a Python Program to Sort Words in Alphabetic Order?\n",
    "5. Write a Python Program to Remove Punctuation From a String?\n",
    "\n",
    "\"\"\""
   ]
  },
  {
   "cell_type": "markdown",
   "metadata": {},
   "source": [
    "# Q.1"
   ]
  },
  {
   "cell_type": "code",
   "execution_count": 12,
   "metadata": {},
   "outputs": [
    {
     "name": "stdout",
     "output_type": "stream",
     "text": [
      "Enter the no. of rows : 2\n",
      "Enter the no. of columns : 3\n",
      "Enter the values for the first matrix......\n",
      "1\n",
      "2\n",
      "3\n",
      "4\n",
      "5\n",
      "6\n",
      "Enter the values for the second matrix......\n",
      "7\n",
      "8\n",
      "9\n",
      "4\n",
      "5\n",
      "6\n",
      "This is first matrix\n",
      "1 2 3 \n",
      "4 5 6 \n",
      "This is second matrix\n",
      "7 8 9 \n",
      "4 5 6 \n",
      "Here is the final matrix..........\n",
      "[8, 10, 12]\n",
      "[8, 10, 12]\n"
     ]
    }
   ],
   "source": [
    "#taking user input for first matrix\n",
    "row = int(input(\"Enter the no. of rows : \"))\n",
    "col = int(input(\"Enter the no. of columns : \"))\n",
    "\n",
    "matrix = []\n",
    "\n",
    "print(\"Enter the values for the first matrix......\")\n",
    "for i in range(row):\n",
    "    a = []\n",
    "    for j in range(col):\n",
    "        a.append(int(input()))\n",
    "    matrix.append(a)\n",
    "\n",
    "    \n",
    "#taking user input for second matrix\n",
    "\n",
    "\n",
    "\n",
    "matrix1 = []\n",
    "\n",
    "print(\"Enter the values for the second matrix......\")\n",
    "for i in range(row):\n",
    "    a = []\n",
    "    for j in range(col):\n",
    "        a.append(int(input()))\n",
    "    matrix1.append(a)\n",
    "    \n",
    "print(\"This is first matrix\")\n",
    "\n",
    "\n",
    "#printing the first matrix\n",
    "\n",
    "for i in range(row):\n",
    "    for j in range(col):\n",
    "        print(matrix[i][j], end = \" \")\n",
    "    print()\n",
    "        \n",
    "\n",
    "print(\"This is second matrix\")\n",
    "\n",
    "\n",
    "#printing the second matrix\n",
    "\n",
    "for i in range(row):\n",
    "    for j in range(col):\n",
    "        print(matrix1[i][j], end = \" \")\n",
    "    print()\n",
    "    \n",
    "\n",
    "#for storing the addition of these two matrices    \n",
    "\n",
    "result = [[0,0,0],\n",
    "         [0,0,0]]\n",
    "\n",
    "#adding two matrices\n",
    "\n",
    "for i in range(row):\n",
    "    for j in range(col):\n",
    "        result[i][j] = matrix[i][j] + matrix1[i][j]\n",
    "        \n",
    "print(\"Here is the final matrix..........\")\n",
    "for i in result:\n",
    "    print(i)"
   ]
  },
  {
   "cell_type": "markdown",
   "metadata": {},
   "source": [
    "# Q.2"
   ]
  },
  {
   "cell_type": "code",
   "execution_count": 27,
   "metadata": {},
   "outputs": [
    {
     "name": "stdout",
     "output_type": "stream",
     "text": [
      "Enter the no. of rows : 2\n",
      "Enter the no. of columns : 3\n",
      "Enter the values for the first matrix......\n",
      "1\n",
      "2\n",
      "3\n",
      "4\n",
      "5\n",
      "6\n",
      "Enter the no. of rows for 2nd matrix: 3\n",
      "Enter the no. of columns for 2nd matrix: 2\n",
      "Enter the values for the second matrix......\n",
      "7\n",
      "8\n",
      "9\n",
      "10\n",
      "11\n",
      "12\n",
      "This is first matrix\n",
      "1 2 3 \n",
      "4 5 6 \n",
      "This is second matrix\n",
      "7 8 \n",
      "9 10 \n",
      "11 12 \n",
      "Here is the final matrix..........\n",
      "[58, 64]\n",
      "[139, 154]\n"
     ]
    }
   ],
   "source": [
    "#taking user input for first matrix\n",
    "row = int(input(\"Enter the no. of rows : \"))\n",
    "col = int(input(\"Enter the no. of columns : \"))\n",
    "\n",
    "matrix = []\n",
    "\n",
    "print(\"Enter the values for the first matrix......\")\n",
    "for i in range(row):\n",
    "    a = []\n",
    "    for j in range(col):\n",
    "        a.append(int(input()))\n",
    "    matrix.append(a)\n",
    "\n",
    "    \n",
    "#taking user input for second matrix\n",
    "\n",
    "row1 = int(input(\"Enter the no. of rows for 2nd matrix: \"))\n",
    "col1 = int(input(\"Enter the no. of columns for 2nd matrix: \"))\n",
    "\n",
    "matrix1 = []\n",
    "\n",
    "print(\"Enter the values for the second matrix......\")\n",
    "for i in range(row1):\n",
    "    a = []\n",
    "    for j in range(col1):\n",
    "        a.append(int(input()))\n",
    "    matrix1.append(a)\n",
    "    \n",
    "print(\"This is first matrix\")\n",
    "\n",
    "\n",
    "#printing the first matrix\n",
    "\n",
    "for i in range(row):\n",
    "    for j in range(col):\n",
    "        print(matrix[i][j], end = \" \")\n",
    "    print()\n",
    "        \n",
    "\n",
    "print(\"This is second matrix\")\n",
    "\n",
    "\n",
    "#printing the second matrix\n",
    "\n",
    "for i in range(row1):\n",
    "    for j in range(col1):\n",
    "        print(matrix1[i][j], end = \" \")\n",
    "    print()\n",
    "    \n",
    "\n",
    "#for storing the multiplication of these two matrices    \n",
    "\n",
    "result = []\n",
    "\n",
    "\n",
    "# multiplying two matrices\n",
    "\n",
    "for i in range(len(matrix)):\n",
    "    a=[]\n",
    "    for k in range(len(matrix1[0])):\n",
    "        ans=0\n",
    "        for j in range(len(matrix1)):\n",
    "            ans += (matrix[i][j] * matrix1[j][k])   \n",
    "        a.append(ans)\n",
    "    result.append(a)\n",
    "    \n",
    "\n",
    "print(\"Here is the final matrix..........\")\n",
    "for i in result:\n",
    "    print(i)"
   ]
  },
  {
   "cell_type": "markdown",
   "metadata": {},
   "source": [
    "# Q.3"
   ]
  },
  {
   "cell_type": "code",
   "execution_count": 36,
   "metadata": {},
   "outputs": [
    {
     "name": "stdout",
     "output_type": "stream",
     "text": [
      "Transpose of the given matrix is.....\n",
      "[1, 4]\n",
      "[2, 5]\n",
      "[3, 6]\n"
     ]
    }
   ],
   "source": [
    "matrix = [[1,2,3],\n",
    "         [4,5,6]]\n",
    "result=[]\n",
    "for i in range(len(matrix[0])):\n",
    "    a=[]\n",
    "    for j in range(len(matrix)):\n",
    "        a.append(matrix[j][i])\n",
    "    result.append(a)\n",
    "print(\"Transpose of the given matrix is.....\") \n",
    "for i in result:\n",
    "    print(i)"
   ]
  },
  {
   "cell_type": "markdown",
   "metadata": {},
   "source": [
    "# Q.4"
   ]
  },
  {
   "cell_type": "code",
   "execution_count": 74,
   "metadata": {},
   "outputs": [
    {
     "name": "stdout",
     "output_type": "stream",
     "text": [
      "a\n",
      "alphabetical\n",
      "for\n",
      "given\n",
      "in\n",
      "is\n",
      "is\n",
      "it.\n",
      "just\n",
      "order\n",
      "our\n",
      "problem,\n",
      "random\n",
      "sort\n",
      "statement\n",
      "task\n",
      "that's\n",
      "the\n",
      "this\n",
      "to\n",
      "words\n"
     ]
    }
   ],
   "source": [
    "s = \"this is just a random statement for the given problem, our task is to sort words in alphabetical order that's it.\"\n",
    "s1 = s.split()\n",
    "s1.sort()\n",
    "for i in s1:\n",
    "    print(i)\n"
   ]
  },
  {
   "cell_type": "markdown",
   "metadata": {},
   "source": [
    "# Q.5"
   ]
  },
  {
   "cell_type": "code",
   "execution_count": 94,
   "metadata": {},
   "outputs": [
    {
     "data": {
      "text/plain": [
       "'You have two choices  finish the work today or lose the contract In each townLondon Paris and Romewe stayed in youth hostels'"
      ]
     },
     "execution_count": 94,
     "metadata": {},
     "output_type": "execute_result"
    }
   ],
   "source": [
    "s = \"You have two choices: : finish the work today or lose the contract. In each- town—London, Paris and Rome—we stayed in youth hostels.\"\n",
    "punc = \".:,-!~@#$%^&*({[})]|\\/?><_—\"\n",
    "for i in s:\n",
    "    if i in punc:\n",
    "        s = s.replace(i,\"\")    \n",
    "s"
   ]
  }
 ],
 "metadata": {
  "kernelspec": {
   "display_name": "Python 3",
   "language": "python",
   "name": "python3"
  },
  "language_info": {
   "codemirror_mode": {
    "name": "ipython",
    "version": 3
   },
   "file_extension": ".py",
   "mimetype": "text/x-python",
   "name": "python",
   "nbconvert_exporter": "python",
   "pygments_lexer": "ipython3",
   "version": "3.7.6"
  }
 },
 "nbformat": 4,
 "nbformat_minor": 4
}
