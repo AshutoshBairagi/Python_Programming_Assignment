{
 "cells": [
  {
   "cell_type": "markdown",
   "metadata": {},
   "source": [
    "# Assignment-12 "
   ]
  },
  {
   "cell_type": "code",
   "execution_count": null,
   "metadata": {},
   "outputs": [],
   "source": [
    "\"\"\"\n",
    "1. Write a Python program to Extract Unique values dictionary values?\n",
    "2. Write a Python program to find the sum of all items in a dictionary?\n",
    "3. Write a Python program to Merging two Dictionaries?\n",
    "4. Write a Python program to convert key-values list to flat dictionary?\n",
    "5. Write a Python program to insertion at the beginning in OrderedDict?\n",
    "6. Write a Python program to check order of character in string using OrderedDict()?\n",
    "7. Write a Python program to sort Python Dictionaries by Key or Value?\n",
    "\n",
    "\"\"\""
   ]
  },
  {
   "cell_type": "markdown",
   "metadata": {},
   "source": [
    "# Q.1"
   ]
  },
  {
   "cell_type": "code",
   "execution_count": 6,
   "metadata": {},
   "outputs": [
    {
     "data": {
      "text/plain": [
       "{1, 2, 3, 4, 5}"
      ]
     },
     "execution_count": 6,
     "metadata": {},
     "output_type": "execute_result"
    }
   ],
   "source": [
    "d = {\"a\":1,\"b\":2,\"c\":1,\"d\":3,\"e\":2,\"f\":4,\"g\":5,\"h\":3}\n",
    "def unique(d):\n",
    "    s = set()\n",
    "    for i in d.values():\n",
    "        s.add(i)\n",
    "    return s\n",
    "unique(d)"
   ]
  },
  {
   "cell_type": "markdown",
   "metadata": {},
   "source": [
    "# Q.2"
   ]
  },
  {
   "cell_type": "code",
   "execution_count": 12,
   "metadata": {},
   "outputs": [
    {
     "data": {
      "text/plain": [
       "('a', 1, 'b', 2, 'c', 1, 'd', 3, 'e', 2, 'f', 4, 'g', 5, 'h', 3)"
      ]
     },
     "execution_count": 12,
     "metadata": {},
     "output_type": "execute_result"
    }
   ],
   "source": [
    "d = {\"a\":1,\"b\":2,\"c\":1,\"d\":3,\"e\":2,\"f\":4,\"g\":5,\"h\":3}\n",
    "def sum_items(d):\n",
    "    a=()\n",
    "    for i in d.items():\n",
    "        a +=i\n",
    "    return a\n",
    "sum_items(d)"
   ]
  },
  {
   "cell_type": "markdown",
   "metadata": {},
   "source": [
    "# Q.3"
   ]
  },
  {
   "cell_type": "code",
   "execution_count": 25,
   "metadata": {},
   "outputs": [
    {
     "data": {
      "text/plain": [
       "{'a': 1,\n",
       " 'b': 2,\n",
       " 'c': 1,\n",
       " 'd': 3,\n",
       " 'e': 2,\n",
       " 'f': 4,\n",
       " 'g': 5,\n",
       " 'h': 3,\n",
       " 'x': 9,\n",
       " 'y': 8,\n",
       " 'z': 7}"
      ]
     },
     "execution_count": 25,
     "metadata": {},
     "output_type": "execute_result"
    }
   ],
   "source": [
    "d = {\"a\":1,\"b\":2,\"c\":1,\"d\":3,\"e\":2,\"f\":4,\"g\":5,\"h\":3}\n",
    "d1 = {\"x\":9,\"y\":8,\"z\":7}\n",
    "def merge(d,d1):\n",
    "    for i in d1.items():\n",
    "        d[i[0]] = i[1]\n",
    "    return d\n",
    "merge(d,d1)"
   ]
  },
  {
   "cell_type": "markdown",
   "metadata": {},
   "source": [
    "# Q.4"
   ]
  },
  {
   "cell_type": "code",
   "execution_count": 43,
   "metadata": {},
   "outputs": [
    {
     "data": {
      "text/plain": [
       "{1: 'Jan', 2: 'Feb', 3: 'March'}"
      ]
     },
     "execution_count": 43,
     "metadata": {},
     "output_type": "execute_result"
    }
   ],
   "source": [
    "d = {'month' : [1, 2, 3], 'name' : ['Jan', 'Feb', 'March']}\n",
    "def flat_dict(d):\n",
    "    \n",
    "    l=[]\n",
    "    for i in d.items():\n",
    "        if type(i[1]) == list:\n",
    "            l.append(i[0])\n",
    "            if len(l)>1:\n",
    "                res = dict(zip(d[l[0]], d[l[1]]))\n",
    "\n",
    "    return res\n",
    "flat_dict(d)"
   ]
  },
  {
   "cell_type": "markdown",
   "metadata": {},
   "source": [
    "# Q.5"
   ]
  },
  {
   "cell_type": "code",
   "execution_count": 72,
   "metadata": {},
   "outputs": [
    {
     "name": "stdout",
     "output_type": "stream",
     "text": [
      "OrderedDict([('x', 9), ('a', 1), ('b', 2), ('c', 3), ('d', 4)])\n"
     ]
    }
   ],
   "source": [
    "from collections import OrderedDict as od\n",
    "d = od()\n",
    "d['a']=1\n",
    "d['b']=2\n",
    "d['c']=3\n",
    "d['d']=4\n",
    "\n",
    "d.update({'x':9})\n",
    "d.move_to_end('x', last=False)\n",
    "print(d)\n",
    "    "
   ]
  },
  {
   "cell_type": "markdown",
   "metadata": {},
   "source": [
    "# Q.6"
   ]
  },
  {
   "cell_type": "code",
   "execution_count": 92,
   "metadata": {},
   "outputs": [
    {
     "data": {
      "text/plain": [
       "True"
      ]
     },
     "execution_count": 92,
     "metadata": {},
     "output_type": "execute_result"
    }
   ],
   "source": [
    "from collections import OrderedDict as od\n",
    "s = \"this is test string\"\n",
    "pattern = \"sr\"\n",
    "def check_order(s, pattern):\n",
    "    d = od.fromkeys(s)\n",
    "    ptr_len = 0\n",
    "    for k,v  in d.items():\n",
    "        if k == pattern[ptr_len]:\n",
    "            ptr_len+=1\n",
    "        if ptr_len==len(pattern):\n",
    "            return True\n",
    "        \n",
    "    return False\n",
    "check_order(s,pattern)"
   ]
  },
  {
   "cell_type": "markdown",
   "metadata": {},
   "source": [
    "# Q.7"
   ]
  },
  {
   "cell_type": "code",
   "execution_count": 95,
   "metadata": {},
   "outputs": [
    {
     "name": "stdout",
     "output_type": "stream",
     "text": [
      "sort_by_key: {1: 'c', 2: 'a', 3: 'd', 4: 'b'}\n",
      "sort_by_value: {2: 'a', 4: 'b', 1: 'c', 3: 'd'}\n"
     ]
    }
   ],
   "source": [
    "d = {4:'b',3:'d',1:'c',2:'a'}\n",
    "sort_by_key = dict(sorted(d.items(),key=lambda item:item[0]))\n",
    "sort_by_value = dict(sorted(d.items(), key=lambda item: item[1]))\n",
    "\n",
    "print(\"sort_by_key:\", sort_by_key)\n",
    "print(\"sort_by_value:\", sort_by_value)"
   ]
  },
  {
   "cell_type": "code",
   "execution_count": 97,
   "metadata": {},
   "outputs": [],
   "source": [
    "s = set()\n",
    "s.add(\"a\")\n",
    "s.add(\"b\")\n",
    "s.add(\"a\")\n",
    "s.add(\"a\")"
   ]
  },
  {
   "cell_type": "code",
   "execution_count": null,
   "metadata": {},
   "outputs": [],
   "source": []
  }
 ],
 "metadata": {
  "kernelspec": {
   "display_name": "Python 3",
   "language": "python",
   "name": "python3"
  },
  "language_info": {
   "codemirror_mode": {
    "name": "ipython",
    "version": 3
   },
   "file_extension": ".py",
   "mimetype": "text/x-python",
   "name": "python",
   "nbconvert_exporter": "python",
   "pygments_lexer": "ipython3",
   "version": "3.7.6"
  }
 },
 "nbformat": 4,
 "nbformat_minor": 4
}
