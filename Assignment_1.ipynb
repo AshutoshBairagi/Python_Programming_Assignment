{
 "cells": [
  {
   "cell_type": "markdown",
   "metadata": {},
   "source": [
    "# Assignment -1"
   ]
  },
  {
   "cell_type": "code",
   "execution_count": null,
   "metadata": {},
   "outputs": [],
   "source": [
    "\"\"\"\n",
    "1. Write a Python program to print &quot;Hello Python&quot;?\n",
    "2. Write a Python program to do arithmetical operations addition and division.?\n",
    "3. Write a Python program to find the area of a triangle?\n",
    "4. Write a Python program to swap two variables?\n",
    "5. Write a Python program to generate a random number?\n",
    "\"\"\""
   ]
  },
  {
   "cell_type": "code",
   "execution_count": 1,
   "metadata": {},
   "outputs": [
    {
     "name": "stdout",
     "output_type": "stream",
     "text": [
      "Hello Python\n"
     ]
    }
   ],
   "source": [
    "#1.\n",
    "print(\"Hello Python\")\n",
    "\n"
   ]
  },
  {
   "cell_type": "code",
   "execution_count": 2,
   "metadata": {},
   "outputs": [],
   "source": [
    "#2.\n",
    "\n",
    "\n",
    "def add():\n",
    "    a = int(input())\n",
    "    b = int(input())\n",
    "    return a+b\n",
    "def divide():\n",
    "    a = int(input())\n",
    "    b = int(input())\n",
    "    return a/b"
   ]
  },
  {
   "cell_type": "code",
   "execution_count": 3,
   "metadata": {},
   "outputs": [
    {
     "name": "stdout",
     "output_type": "stream",
     "text": [
      "5\n",
      "2\n"
     ]
    },
    {
     "data": {
      "text/plain": [
       "7"
      ]
     },
     "execution_count": 3,
     "metadata": {},
     "output_type": "execute_result"
    }
   ],
   "source": [
    "add()"
   ]
  },
  {
   "cell_type": "code",
   "execution_count": 4,
   "metadata": {},
   "outputs": [
    {
     "name": "stdout",
     "output_type": "stream",
     "text": [
      "5\n",
      "4\n"
     ]
    },
    {
     "data": {
      "text/plain": [
       "1.25"
      ]
     },
     "execution_count": 4,
     "metadata": {},
     "output_type": "execute_result"
    }
   ],
   "source": [
    "divide()"
   ]
  },
  {
   "cell_type": "code",
   "execution_count": 5,
   "metadata": {},
   "outputs": [
    {
     "name": "stdout",
     "output_type": "stream",
     "text": [
      "enter the value of base: 10\n",
      "enter the value of height: 2\n"
     ]
    },
    {
     "data": {
      "text/plain": [
       "10.0"
      ]
     },
     "execution_count": 5,
     "metadata": {},
     "output_type": "execute_result"
    }
   ],
   "source": [
    "#3.\n",
    "import ipdb\n",
    "def areaT():\n",
    "    try:\n",
    "        #ipdb.set_trace()\n",
    "        b = int(input(\"enter the value of base: \"))\n",
    "        h = int(input(\"enter the value of height: \"))\n",
    "        if b <=0 or h <=0:\n",
    "            print(\"Enter only positive values\")\n",
    "            return\n",
    "        if b >= 2147483647 or h >= 2147483647:\n",
    "            print(\"enter some smaller values\")\n",
    "            return\n",
    "            \n",
    "\n",
    "        area  = 0.5*b*h\n",
    "\n",
    "        return area\n",
    "    except Exception as e:\n",
    "        print(\"Enter only numeric value\")\n",
    "        \n",
    "\n",
    "areaT()\n"
   ]
  },
  {
   "cell_type": "code",
   "execution_count": 6,
   "metadata": {},
   "outputs": [
    {
     "name": "stdout",
     "output_type": "stream",
     "text": [
      "enter the value of a: 5\n",
      "enter the value of b: 8\n",
      "before swapping...........\n",
      "value of a is :  5\n",
      "value of b is :  8\n",
      "after swapping...........\n",
      "value of a is :  8\n",
      "value of b is :  5\n"
     ]
    }
   ],
   "source": [
    "#4.\n",
    "\n",
    "\n",
    "def swap():\n",
    "    try:\n",
    "        \n",
    "        a = int(input(\"enter the value of a: \"))\n",
    "        b = int(input(\"enter the value of b: \"))\n",
    "        \n",
    "        if a >= 2147483647 or b >= 2147483647:\n",
    "            print(\"enter some smaller values\")\n",
    "            return\n",
    "        \n",
    "        print(\"before swapping...........\")\n",
    "        print(\"value of a is : \", a)\n",
    "        print(\"value of b is : \", b)\n",
    "        temp = a\n",
    "        a = b\n",
    "        b = temp\n",
    "        \n",
    "        print(\"after swapping...........\")\n",
    "        print(\"value of a is : \", a)\n",
    "        print(\"value of b is : \", b)\n",
    "        \n",
    "        return\n",
    "       \n",
    "    except Exception as e:\n",
    "        print(\"Enter only numeric value\")\n",
    "        \n",
    "\n",
    "swap()\n"
   ]
  },
  {
   "cell_type": "code",
   "execution_count": 7,
   "metadata": {},
   "outputs": [
    {
     "data": {
      "text/plain": [
       "0.5033403560724102"
      ]
     },
     "execution_count": 7,
     "metadata": {},
     "output_type": "execute_result"
    }
   ],
   "source": [
    "#5.\n",
    "import random\n",
    "random.random()"
   ]
  },
  {
   "cell_type": "code",
   "execution_count": null,
   "metadata": {},
   "outputs": [],
   "source": []
  }
 ],
 "metadata": {
  "kernelspec": {
   "display_name": "Python 3",
   "language": "python",
   "name": "python3"
  },
  "language_info": {
   "codemirror_mode": {
    "name": "ipython",
    "version": 3
   },
   "file_extension": ".py",
   "mimetype": "text/x-python",
   "name": "python",
   "nbconvert_exporter": "python",
   "pygments_lexer": "ipython3",
   "version": "3.7.6"
  }
 },
 "nbformat": 4,
 "nbformat_minor": 4
}
