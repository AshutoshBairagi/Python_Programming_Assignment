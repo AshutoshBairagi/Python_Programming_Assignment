{
 "cells": [
  {
   "cell_type": "markdown",
   "metadata": {},
   "source": [
    "# Assignment-11"
   ]
  },
  {
   "cell_type": "code",
   "execution_count": null,
   "metadata": {},
   "outputs": [],
   "source": [
    "\"\"\"\n",
    "\n",
    "1. Write a Python program to find words which are greater than given length k?\n",
    "2. Write a Python program for removing i-th character from a string?\n",
    "3. Write a Python program to split and join a string?\n",
    "4. Write a Python to check if a given string is binary string or not?\n",
    "5. Write a Python program to find uncommon words from two Strings?\n",
    "6. Write a Python to find all duplicate characters in string?\n",
    "7. Write a Python Program to check if a string contains any special character?\n",
    "\n",
    "\"\"\""
   ]
  },
  {
   "cell_type": "markdown",
   "metadata": {},
   "source": [
    "# Q.1"
   ]
  },
  {
   "cell_type": "code",
   "execution_count": 15,
   "metadata": {},
   "outputs": [
    {
     "name": "stdout",
     "output_type": "stream",
     "text": [
      "random\n",
      "statement\n",
      "given\n",
      "question\n",
      "words\n",
      "which\n",
      "greater\n",
      "given\n",
      "length\n"
     ]
    }
   ],
   "source": [
    "s = \"this is just a random statement for the given question so that I can find words which are greater than given length k\"\n",
    "def k_words(s,k):\n",
    "    for i in s.split():\n",
    "        if len(i)>k:\n",
    "            print(i)\n",
    "k_words(s,4)"
   ]
  },
  {
   "cell_type": "markdown",
   "metadata": {},
   "source": [
    "# Q.2"
   ]
  },
  {
   "cell_type": "code",
   "execution_count": 62,
   "metadata": {},
   "outputs": [
    {
     "data": {
      "text/plain": [
       "'his is just a random statement for the given question'"
      ]
     },
     "execution_count": 62,
     "metadata": {},
     "output_type": "execute_result"
    }
   ],
   "source": [
    "s = \"this is just a random statement for the given question\"\n",
    "def i_remove(l,i):\n",
    "    return s.replace(s[i], \"\", 1)\n",
    "i_remove(s,0)"
   ]
  },
  {
   "cell_type": "markdown",
   "metadata": {},
   "source": [
    "# Q.3"
   ]
  },
  {
   "cell_type": "code",
   "execution_count": 72,
   "metadata": {},
   "outputs": [
    {
     "data": {
      "text/plain": [
       "'this___is___just___a___random___statement___for___the___given___question'"
      ]
     },
     "execution_count": 72,
     "metadata": {},
     "output_type": "execute_result"
    }
   ],
   "source": [
    "s = \"this is just a random statement for the given question\"\n",
    "def split_join(s):\n",
    "    s1 = \"___\".join(s.split())\n",
    "    return s1\n",
    "split_join(s)"
   ]
  },
  {
   "cell_type": "markdown",
   "metadata": {},
   "source": [
    "# Q.4"
   ]
  },
  {
   "cell_type": "code",
   "execution_count": 86,
   "metadata": {},
   "outputs": [
    {
     "data": {
      "text/plain": [
       "'binary string'"
      ]
     },
     "execution_count": 86,
     "metadata": {},
     "output_type": "execute_result"
    }
   ],
   "source": [
    "def binary(s):\n",
    "    if all(i==\"0\" or i==\"1\" for i in s):\n",
    "        return \"binary string\"\n",
    "    else:\n",
    "        return \"not binary\"\n",
    "        \n",
    "binary(\"0101011110101\")"
   ]
  },
  {
   "cell_type": "markdown",
   "metadata": {},
   "source": [
    "# Q.5"
   ]
  },
  {
   "cell_type": "code",
   "execution_count": 109,
   "metadata": {},
   "outputs": [
    {
     "data": {
      "text/plain": [
       "' first we uncommon words second I common word'"
      ]
     },
     "execution_count": 109,
     "metadata": {},
     "output_type": "execute_result"
    }
   ],
   "source": [
    "s1 = \"this is the first string and we have to find uncommon words in two strings\"\n",
    "s2 = \"this is the second string and I have to find common word in this two strings\"\n",
    "def uncommon(s1,s2):\n",
    "    uncommon = \"\"\n",
    "    for i in s1.split():\n",
    "        if i in s2.split():\n",
    "            pass\n",
    "        else:\n",
    "            uncommon += \" \"+ i\n",
    "    for i in s2.split():\n",
    "        if i in s1.split():\n",
    "            pass\n",
    "        else:\n",
    "            uncommon += \" \"+i\n",
    "    return uncommon\n",
    "uncommon(s1,s2)                "
   ]
  },
  {
   "cell_type": "markdown",
   "metadata": {},
   "source": [
    "# Q.6"
   ]
  },
  {
   "cell_type": "code",
   "execution_count": 114,
   "metadata": {},
   "outputs": [
    {
     "data": {
      "text/plain": [
       "{'a', 'c', 'e', 'h', 'i', 'r', 's', 't'}"
      ]
     },
     "execution_count": 114,
     "metadata": {},
     "output_type": "execute_result"
    }
   ],
   "source": [
    "s = \"thisisstringwithduplicatecharactersxtzyq\"\n",
    "def duplicate(s):\n",
    "    duplicate = \"\"\n",
    "    for i in list(s):\n",
    "        if list(s).count(i) > 1:\n",
    "            duplicate +=i\n",
    "    return set(duplicate)\n",
    "duplicate(s)"
   ]
  },
  {
   "cell_type": "markdown",
   "metadata": {},
   "source": [
    "# Q.7"
   ]
  },
  {
   "cell_type": "code",
   "execution_count": 134,
   "metadata": {},
   "outputs": [
    {
     "data": {
      "text/plain": [
       "'contains a special character'"
      ]
     },
     "execution_count": 134,
     "metadata": {},
     "output_type": "execute_result"
    }
   ],
   "source": [
    "s = \"thisisjus$tastring\"\n",
    "def special(s):\n",
    "    s1 = \"~!@#$%^&*({[})]|\\:;<>?,./-_\"\n",
    "    for i in s:\n",
    "        while( i in s1):\n",
    "            return \"contains a special character\"\n",
    "    else:\n",
    "        return \"not contains any special character\"\n",
    "            \n",
    "special(s)"
   ]
  },
  {
   "cell_type": "code",
   "execution_count": null,
   "metadata": {},
   "outputs": [],
   "source": []
  },
  {
   "cell_type": "code",
   "execution_count": null,
   "metadata": {},
   "outputs": [],
   "source": []
  }
 ],
 "metadata": {
  "kernelspec": {
   "display_name": "Python 3",
   "language": "python",
   "name": "python3"
  },
  "language_info": {
   "codemirror_mode": {
    "name": "ipython",
    "version": 3
   },
   "file_extension": ".py",
   "mimetype": "text/x-python",
   "name": "python",
   "nbconvert_exporter": "python",
   "pygments_lexer": "ipython3",
   "version": "3.7.6"
  }
 },
 "nbformat": 4,
 "nbformat_minor": 4
}
