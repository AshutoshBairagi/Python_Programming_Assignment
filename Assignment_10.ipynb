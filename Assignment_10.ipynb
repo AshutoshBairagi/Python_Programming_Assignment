{
 "cells": [
  {
   "cell_type": "markdown",
   "metadata": {},
   "source": [
    "# Assignment-10"
   ]
  },
  {
   "cell_type": "code",
   "execution_count": null,
   "metadata": {},
   "outputs": [],
   "source": [
    "\"\"\"\n",
    "1. Write a Python program to find sum of elements in list?\n",
    "2. Write a Python program to Multiply all numbers in the list?\n",
    "3. Write a Python program to find smallest number in a list?\n",
    "4. Write a Python program to find largest number in a list?\n",
    "5. Write a Python program to find second largest number in a list?\n",
    "6. Write a Python program to find N largest elements from a list?\n",
    "7. Write a Python program to print even numbers in a list?\n",
    "8. Write a Python program to print odd numbers in a List?\n",
    "9. Write a Python program to Remove empty List from List?\n",
    "10. Write a Python program to Cloning or Copying a list?\n",
    "11. Write a Python program to Count occurrences of an element in a list?\n",
    "\n",
    "\"\"\""
   ]
  },
  {
   "cell_type": "markdown",
   "metadata": {},
   "source": [
    "# Q.1"
   ]
  },
  {
   "cell_type": "code",
   "execution_count": 1,
   "metadata": {},
   "outputs": [
    {
     "data": {
      "text/plain": [
       "6124"
      ]
     },
     "execution_count": 1,
     "metadata": {},
     "output_type": "execute_result"
    }
   ],
   "source": [
    "l = [1,2,5,2,4,54,87,45,454,5454,8,8,]\n",
    "sum(l)"
   ]
  },
  {
   "cell_type": "markdown",
   "metadata": {},
   "source": [
    "# Q.2"
   ]
  },
  {
   "cell_type": "code",
   "execution_count": 4,
   "metadata": {},
   "outputs": [
    {
     "name": "stdout",
     "output_type": "stream",
     "text": [
      "9600000\n"
     ]
    }
   ],
   "source": [
    "l = [1,2,5,4,2,5,1,1,1,25,6,5,8,4]\n",
    "ans = 1\n",
    "for i in l:\n",
    "    ans *= i\n",
    "print(ans)"
   ]
  },
  {
   "cell_type": "markdown",
   "metadata": {},
   "source": [
    "# Q.3"
   ]
  },
  {
   "cell_type": "code",
   "execution_count": 8,
   "metadata": {},
   "outputs": [
    {
     "data": {
      "text/plain": [
       "13"
      ]
     },
     "execution_count": 8,
     "metadata": {},
     "output_type": "execute_result"
    }
   ],
   "source": [
    "l = [154,255,4885,654,21,45,87,654,784,21,13]\n",
    "def smallest(l):\n",
    "    smallest = l[0]\n",
    "    for i in l:\n",
    "        if i <= smallest:\n",
    "            smallest = i\n",
    "        else:\n",
    "            continue\n",
    "    return smallest\n",
    "\n",
    "smallest(l)"
   ]
  },
  {
   "cell_type": "markdown",
   "metadata": {},
   "source": [
    "# Q.4"
   ]
  },
  {
   "cell_type": "code",
   "execution_count": 10,
   "metadata": {},
   "outputs": [
    {
     "data": {
      "text/plain": [
       "7848"
      ]
     },
     "execution_count": 10,
     "metadata": {},
     "output_type": "execute_result"
    }
   ],
   "source": [
    "l = [154,255,4885,654,21,45,87,654,7848,21,13]\n",
    "def largest(l):\n",
    "    largest = l[0]\n",
    "    for i in l:\n",
    "        if i >= largest:\n",
    "            largest = i\n",
    "    return largest\n",
    "\n",
    "largest(l)"
   ]
  },
  {
   "cell_type": "markdown",
   "metadata": {},
   "source": [
    "# Q.5"
   ]
  },
  {
   "cell_type": "code",
   "execution_count": 12,
   "metadata": {},
   "outputs": [
    {
     "name": "stdout",
     "output_type": "stream",
     "text": [
      "4885\n"
     ]
    }
   ],
   "source": [
    "l = [154,255,4885,654,21,45,87,654,7848,21,13]\n",
    "def second_largest(l):\n",
    "    l.sort()\n",
    "    print(l[-2])\n",
    "second_largest(l)"
   ]
  },
  {
   "cell_type": "markdown",
   "metadata": {},
   "source": [
    "# Q.6"
   ]
  },
  {
   "cell_type": "code",
   "execution_count": 16,
   "metadata": {},
   "outputs": [
    {
     "name": "stdout",
     "output_type": "stream",
     "text": [
      "7848\n",
      "4885\n",
      "684\n",
      "654\n"
     ]
    }
   ],
   "source": [
    "l = [154,255,4885,684,21,45,87,654,7848,21,13]\n",
    "def n_largest(l,n):\n",
    "    l.sort()\n",
    "    for i in range(1,n+1):\n",
    "        print(l[-i])\n",
    "n_largest(l,4)"
   ]
  },
  {
   "cell_type": "markdown",
   "metadata": {},
   "source": [
    "# Q.7"
   ]
  },
  {
   "cell_type": "code",
   "execution_count": 17,
   "metadata": {},
   "outputs": [
    {
     "name": "stdout",
     "output_type": "stream",
     "text": [
      "154\n",
      "684\n",
      "654\n",
      "7848\n"
     ]
    }
   ],
   "source": [
    "l = [154,255,4885,684,21,45,87,654,7848,21,13]\n",
    "def even(l):\n",
    "    for i in l:\n",
    "        if i%2==0:\n",
    "            print(i)\n",
    "            \n",
    "even(l)"
   ]
  },
  {
   "cell_type": "markdown",
   "metadata": {},
   "source": [
    "# Q.8"
   ]
  },
  {
   "cell_type": "code",
   "execution_count": 19,
   "metadata": {},
   "outputs": [
    {
     "name": "stdout",
     "output_type": "stream",
     "text": [
      "255\n",
      "4885\n",
      "21\n",
      "45\n",
      "87\n",
      "21\n",
      "13\n"
     ]
    }
   ],
   "source": [
    "l = [154,255,4885,684,21,45,87,654,7848,21,13]\n",
    "def odd(l):\n",
    "    for i in l:\n",
    "        if i%2!=0:\n",
    "            print(i)\n",
    "odd(l)"
   ]
  },
  {
   "cell_type": "markdown",
   "metadata": {},
   "source": [
    "# Q.9"
   ]
  },
  {
   "cell_type": "code",
   "execution_count": 21,
   "metadata": {},
   "outputs": [
    {
     "data": {
      "text/plain": [
       "[[1, 2, 5], [2, 1, 5, 4], ['a', 2, 5, 4], [2]]"
      ]
     },
     "execution_count": 21,
     "metadata": {},
     "output_type": "execute_result"
    }
   ],
   "source": [
    "l = [[1,2,5],[],[2,1,5,4],[\"a\",2,5,4],[],[2]]\n",
    "def empty(l):\n",
    "    for i in l:\n",
    "        if len(i)==0:\n",
    "            l.remove(i)\n",
    "    return l\n",
    "\n",
    "empty(l)"
   ]
  },
  {
   "cell_type": "markdown",
   "metadata": {},
   "source": [
    "# Q.10"
   ]
  },
  {
   "cell_type": "code",
   "execution_count": 23,
   "metadata": {},
   "outputs": [
    {
     "data": {
      "text/plain": [
       "[154, 255, 4885, 684, 21, 45, 87, 654, 7848, 21, 13]"
      ]
     },
     "execution_count": 23,
     "metadata": {},
     "output_type": "execute_result"
    }
   ],
   "source": [
    "l = [154,255,4885,684,21,45,87,654,7848,21,13]\n",
    "def clone(l):\n",
    "    l1=[]\n",
    "    for i in l:\n",
    "        l1.append(i)\n",
    "    return l1\n",
    "clone(l)"
   ]
  },
  {
   "cell_type": "markdown",
   "metadata": {},
   "source": [
    "# Q.11"
   ]
  },
  {
   "cell_type": "code",
   "execution_count": 26,
   "metadata": {},
   "outputs": [
    {
     "data": {
      "text/plain": [
       "5"
      ]
     },
     "execution_count": 26,
     "metadata": {},
     "output_type": "execute_result"
    }
   ],
   "source": [
    "l = [1,2,5,4,1,2,3,6,8,2,1,2,4,5,6,1,2,4,5,7,1,2,4,4,7,8,7]\n",
    "def occ(l,n):\n",
    "    return l.count(n)\n",
    "occ(l,4)"
   ]
  },
  {
   "cell_type": "code",
   "execution_count": null,
   "metadata": {},
   "outputs": [],
   "source": []
  }
 ],
 "metadata": {
  "kernelspec": {
   "display_name": "Python 3",
   "language": "python",
   "name": "python3"
  },
  "language_info": {
   "codemirror_mode": {
    "name": "ipython",
    "version": 3
   },
   "file_extension": ".py",
   "mimetype": "text/x-python",
   "name": "python",
   "nbconvert_exporter": "python",
   "pygments_lexer": "ipython3",
   "version": "3.7.6"
  }
 },
 "nbformat": 4,
 "nbformat_minor": 4
}
